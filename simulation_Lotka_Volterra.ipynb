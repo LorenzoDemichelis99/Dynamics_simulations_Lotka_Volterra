{
 "cells": [
  {
   "cell_type": "markdown",
   "metadata": {},
   "source": [
    "# Direct simulation of the random Lotka-Volterra model on a graph"
   ]
  },
  {
   "cell_type": "markdown",
   "metadata": {},
   "source": [
    "This notebook can be used to simulate the random Lotka-Volterra model on a generic graph. Let $G=(V,E)$ be the graph, with $V$ being the node set and $E$ being the edge set; it is possible to associate to each node $i \\in V={1,...,N}$ a degree of freedom $x_{i}(t)$ whose dynamics is described by the following equations:\n",
    "\n",
    "\\begin{equation}\n",
    "    \\frac{dx_{i}(t)}{dt} = x_{i}(t) \\bigg( 1 - x_{i}(t) + \\sum_{j \\in \\partial i} \\alpha_{ij} x_{j}(t) \\bigg)\n",
    "\\end{equation}\n",
    "\n",
    "with $\\alpha_{ij}$ being the coupling constant between node $i$ and node $j$.\n",
    "\n",
    "For what concerns the coupling constants, it is possible to introduce an asymmetry in the interactions by considering the pair $(\\alpha_{ij}, \\alpha_{ji})$ as independent random variables such that:\n",
    "\n",
    "\\begin{equation}\n",
    "    \\alpha_{ij} = \\frac{m}{K} + \\frac{\\sigma}{\\sqrt{K}} z_{ij}\n",
    "\\end{equation}\n",
    "\n",
    "where $\\langle z_{ij} \\rangle = 0$, $\\langle z_{ij}^{2} \\rangle = \\langle z_{ji}^{2} \\rangle = 1$ and $\\langle z_{ij} z_{ji} \\rangle = \\gamma$.\n",
    "\n",
    "In discrete time the equations in log-space become:\n",
    "\n",
    "\\begin{equation}\n",
    "    \\log x_{i}^{n+1} = \\log x_{i}^{n} + \\Delta \\bigg( 1 - x_{i}^{n} + \\sum_{j \\in \\partial i} \\alpha_{ij} x_{j}^{n}\\bigg)\n",
    "\\end{equation}"
   ]
  },
  {
   "cell_type": "markdown",
   "metadata": {},
   "source": [
    "Here the libraries required to implement the direct numerical simulations are imported:"
   ]
  },
  {
   "cell_type": "code",
   "execution_count": null,
   "metadata": {},
   "outputs": [],
   "source": [
    "using Random, Statistics, OffsetArrays, LinearAlgebra, Dates, DelimitedFiles, SharedArrays, Revise, Distributions, Plots, Measures, LaTeXStrings, Graphs, ProgressMeter"
   ]
  },
  {
   "cell_type": "markdown",
   "metadata": {},
   "source": [
    "The the files implementing the simualations are imported:"
   ]
  },
  {
   "cell_type": "code",
   "execution_count": null,
   "metadata": {},
   "outputs": [],
   "source": [
    "includet(\"simulation_Lotka_Volterra.jl\")\n",
    "includet(\"simulation_data_Lotka_Volterra.jl\")\n",
    "includet(\"simulation_tools_Lotka_Volterra.jl\")"
   ]
  },
  {
   "cell_type": "markdown",
   "metadata": {},
   "source": [
    "Now the parameter of the simulation can be set:"
   ]
  },
  {
   "cell_type": "code",
   "execution_count": null,
   "metadata": {},
   "outputs": [],
   "source": [
    "T = 1000 # number of time steps\n",
    "Δ = 0.01 # time step\n",
    "Nv = 1000 # number of vertices of the graph\n",
    "K = 100 # connectivity of the graph\n",
    "\n",
    "# choice of the graph\n",
    "#G = random_regular_graph(Nv, K)\n",
    "G = complete_graph(Nv)\n",
    "\n",
    "# parameters of the model\n",
    "m = 4.0\n",
    "σ = 0.0\n",
    "γ = 0.0\n",
    "\n",
    "thres = 0.01 # threshold for the extinction of a population\n",
    "x_0 = x -> rand() # this is the function used to initialize the variables\n",
    "save_option = :str # true for saving the results locally, false for saving the results in a predefined external folder\n",
    "file_path_external = \"D://Politecnico//V Anno//Thesis//Codes//Julia//Dynamics simulations results\"\n",
    "show_progress = true; # true for showing the status of the simulation"
   ]
  },
  {
   "cell_type": "markdown",
   "metadata": {},
   "source": [
    "The simulation can be run as:"
   ]
  },
  {
   "cell_type": "code",
   "execution_count": null,
   "metadata": {},
   "outputs": [],
   "source": [
    "result = simulation_Lotka_Volterra(G, T, Δ, x_0, m, γ, σ, K)"
   ]
  },
  {
   "cell_type": "markdown",
   "metadata": {},
   "source": [
    "It is possible to plot the trajectories of some of the nodes of the graph as:"
   ]
  },
  {
   "cell_type": "code",
   "execution_count": null,
   "metadata": {},
   "outputs": [],
   "source": [
    "plot_trajectories(result, 10)"
   ]
  },
  {
   "cell_type": "markdown",
   "metadata": {},
   "source": [
    "The average trajectory, the covariance matrix and the correlation matrix are easily computed:"
   ]
  },
  {
   "cell_type": "code",
   "execution_count": null,
   "metadata": {},
   "outputs": [],
   "source": [
    "t₀ = 10\n",
    "tₙ = T\n",
    "μ = Vector{Float64}(undef, tₙ-t₀)\n",
    "C = Matrix{Float64}(undef, (tₙ-t₀,tₙ-t₀))\n",
    "ρ = Matrix{Float64}(undef, (tₙ-t₀,tₙ-t₀))\n",
    "\n",
    "μ, C, ρ = stats_analysis(result)"
   ]
  },
  {
   "cell_type": "markdown",
   "metadata": {},
   "source": [
    "The results of the analysis can be plotted:"
   ]
  },
  {
   "cell_type": "code",
   "execution_count": null,
   "metadata": {},
   "outputs": [],
   "source": [
    "plot_stats(μ, C, ρ, t₀, tₙ)"
   ]
  },
  {
   "cell_type": "markdown",
   "metadata": {},
   "source": [
    "The traejctories obtained in the simulation can be saved:"
   ]
  },
  {
   "cell_type": "code",
   "execution_count": null,
   "metadata": {},
   "outputs": [],
   "source": [
    "folder_path = \"C://your//path\"\n",
    "save_trajectories(result, folder_path)"
   ]
  },
  {
   "cell_type": "markdown",
   "metadata": {},
   "source": [
    "The results of the statistical analysis can be saved:"
   ]
  },
  {
   "cell_type": "code",
   "execution_count": null,
   "metadata": {},
   "outputs": [],
   "source": [
    "folder_path = \"C://your//path\"\n",
    "save_stats(μ, C, ρ, folder_path)"
   ]
  }
 ],
 "metadata": {
  "kernelspec": {
   "display_name": "Julia 1.10.4",
   "language": "julia",
   "name": "julia-1.10"
  },
  "language_info": {
   "file_extension": ".jl",
   "mimetype": "application/julia",
   "name": "julia",
   "version": "1.10.4"
  }
 },
 "nbformat": 4,
 "nbformat_minor": 2
}
